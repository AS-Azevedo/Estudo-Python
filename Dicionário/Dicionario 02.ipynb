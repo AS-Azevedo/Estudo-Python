{
 "cells": [
  {
   "attachments": {},
   "cell_type": "markdown",
   "metadata": {},
   "source": [
    "# Não confie na ordem dos dicionários, use as chaves\n",
    "\n",
    "### Python Versões Antigas x Versões Novas\n",
    "\n",
    "- Dicionários eram \"sem ordem\". Atualmente tem ordem, mas o certo é usar as chaves\n",
    "- 2 formas de pegar um valor:\n",
    "    - dicionario[chave]\n",
    "    - .get(chave)"
   ]
  },
  {
   "cell_type": "code",
   "execution_count": 3,
   "metadata": {},
   "outputs": [],
   "source": [
    "mais_vendidos = {'tecnologia': 'iphone', 'refrigeracao': 'ar consul 12000 btu', 'livros': 'o alquimista', 'eletrodoméstico': 'geladeira', 'lazer': 'prancha surf'}\n",
    "\n",
    "vendas_tecnologia = {'iphone': 15000, 'samsung galaxy': 12000, 'tv samsung': 10000, 'ps5': 14300, 'tablet': 1720, 'ipad': 1000, 'tv philco': 2500, 'notebook hp': 1000, 'notebook dell': 17000, 'notebook asus': 2450}"
   ]
  },
  {
   "attachments": {},
   "cell_type": "markdown",
   "metadata": {},
   "source": [
    "- Qual foi o item mais vendido nas categorias 'livros' e 'lazer'?\n",
    "- Quanto foi vendido de 'notebook asus' e de 'ipad'?"
   ]
  },
  {
   "cell_type": "code",
   "execution_count": 5,
   "metadata": {},
   "outputs": [
    {
     "name": "stdout",
     "output_type": "stream",
     "text": [
      "O livro mais vendido foi o alquimista\n",
      "O item de lazer mais vendido foi prancha surf\n",
      "Foram vendidas 2450 unidades de notebooks da marca Asus\n",
      "Foram vendidas 1000 unidades de iPads\n",
      "\n",
      "\n",
      "Usando GET \n",
      "\n",
      "O livro mais vendido foi o alquimista\n",
      "O item de lazer mais vendido foi prancha surf\n",
      "Foram vendidas 2450 unidades de notebooks da marca Asus\n",
      "Foram vendidas 1000 unidades de iPads\n"
     ]
    }
   ],
   "source": [
    "# respondendo com a chave, igual a aula anterior\n",
    "#Item mais vendido na categoria livros\n",
    "livro = mais_vendidos['livros']\n",
    "print(f'O livro mais vendido foi {livro}')\n",
    "\n",
    "#Lazer\n",
    "lazer = mais_vendidos['lazer']\n",
    "print(f'O item de lazer mais vendido foi {lazer}')\n",
    "\n",
    "#Quantidade de notebooks vendidos\n",
    "notebook = vendas_tecnologia['notebook asus']\n",
    "print(f'Foram vendidas {notebook} unidades de notebooks da marca Asus')\n",
    "\n",
    "#Quantidade de ipads vendidos\n",
    "ipad = vendas_tecnologia.get('ipad')\n",
    "print(f'Foram vendidas {ipad} unidades de iPads')\n",
    "\n",
    "\n",
    "# respondendo com o método get\n",
    "print('\\n\\nUsando GET \\n')\n",
    "\n",
    "#Item mais vendido na categoria livros\n",
    "livro_get = mais_vendidos.get('livros')\n",
    "print(f'O livro mais vendido foi {livro_get}')\n",
    "\n",
    "#Lazer\n",
    "lazer_get = mais_vendidos.get('lazer')\n",
    "print(f'O item de lazer mais vendido foi {lazer_get}')\n",
    "\n",
    "#Quantidade de notebooks vendidos\n",
    "notebook_get = vendas_tecnologia.get('notebook asus')\n",
    "print(f'Foram vendidas {notebook_get} unidades de notebooks da marca Asus')\n",
    "\n",
    "#Quantidade de ipads vendidos\n",
    "ipad_get = vendas_tecnologia.get('ipad')\n",
    "print(f'Foram vendidas {ipad_get} unidades de iPads') \n"
   ]
  },
  {
   "attachments": {},
   "cell_type": "markdown",
   "metadata": {},
   "source": [
    "### Verificar se item está no dicionário:\n",
    "\n",
    "- if\n",
    "- .get(chave) = None\n",
    "\n",
    "Se tentarmos procurar as vendas de \"copo\" na lista de vendas tecnologia, o que acontece?"
   ]
  },
  {
   "cell_type": "code",
   "execution_count": 8,
   "metadata": {},
   "outputs": [
    {
     "name": "stdout",
     "output_type": "stream",
     "text": [
      "O item copo não está na lista de produtos\n",
      "O item copo não está na lista de produtos\n",
      "None\n"
     ]
    }
   ],
   "source": [
    "if 'copo' in vendas_tecnologia:\n",
    "    print(vendas_tecnologia['Copo'])\n",
    "else:\n",
    "    print('O item copo não está na lista de produtos')\n",
    "\n",
    "if vendas_tecnologia.get('copo') == None :\n",
    "    print('O item copo não está na lista de produtos')\n",
    "    \n",
    "print(vendas_tecnologia.get('copo'))"
   ]
  }
 ],
 "metadata": {
  "kernelspec": {
   "display_name": "Python 3",
   "language": "python",
   "name": "python3"
  },
  "language_info": {
   "codemirror_mode": {
    "name": "ipython",
    "version": 3
   },
   "file_extension": ".py",
   "mimetype": "text/x-python",
   "name": "python",
   "nbconvert_exporter": "python",
   "pygments_lexer": "ipython3",
   "version": "3.10.11"
  }
 },
 "nbformat": 4,
 "nbformat_minor": 4
}
