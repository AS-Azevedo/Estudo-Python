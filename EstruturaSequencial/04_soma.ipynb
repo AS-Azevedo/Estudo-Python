{
 "cells": [
  {
   "cell_type": "markdown",
   "metadata": {},
   "source": [
    "### Soma\n",
    "\n",
    "Faça um Programa que peça dois números e imprima a soma.\n"
   ]
  },
  {
   "cell_type": "code",
   "execution_count": 8,
   "metadata": {},
   "outputs": [
    {
     "name": "stdout",
     "output_type": "stream",
     "text": [
      "Digite 2 números para exibir a soma deles\n",
      "O resultado da soma é: 20\n"
     ]
    }
   ],
   "source": [
    "print('Digite 2 números para exibir a soma deles')\n",
    "\n",
    "n1 = int(input('Digite o primeiro Número'))\n",
    "n2 = int(input('Digite o segundo número'))\n",
    "\n",
    "\n",
    "print(f'O resultado da soma é: {n1+n2}')"
   ]
  }
 ],
 "metadata": {
  "kernelspec": {
   "display_name": "Python 3.10.6 64-bit",
   "language": "python",
   "name": "python3"
  },
  "language_info": {
   "codemirror_mode": {
    "name": "ipython",
    "version": 3
   },
   "file_extension": ".py",
   "mimetype": "text/x-python",
   "name": "python",
   "nbconvert_exporter": "python",
   "pygments_lexer": "ipython3",
   "version": "3.10.6"
  },
  "orig_nbformat": 4,
  "vscode": {
   "interpreter": {
    "hash": "a4b831d8046030f06c4e1eda3c51cd4515b11159e253f3c0059ed00cc8ec9b9a"
   }
  }
 },
 "nbformat": 4,
 "nbformat_minor": 2
}
