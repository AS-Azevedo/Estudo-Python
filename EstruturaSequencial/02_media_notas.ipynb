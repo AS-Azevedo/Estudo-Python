{
 "cells": [
  {
   "cell_type": "markdown",
   "metadata": {},
   "source": [
    "### Média Notas\n",
    "\n",
    "Faça um Programa que peça as 4 notas bimestrais e mostre a média."
   ]
  },
  {
   "cell_type": "code",
   "execution_count": 10,
   "metadata": {},
   "outputs": [
    {
     "name": "stdout",
     "output_type": "stream",
     "text": [
      "A média é:  7.62\n"
     ]
    }
   ],
   "source": [
    "n1 = float(input('Digite a primeira nota'))\n",
    "\n",
    "n2 = float(input('Digite a segunda nota'))\n",
    "\n",
    "n3 = float(input('Digite a terceira nota'))\n",
    "\n",
    "n4 = float(input('Digite a quarta nota'))\n",
    "\n",
    "media = (n1+n2+n3+n4)/4\n",
    "\n",
    "print(f'A média é: {media: .2f}')\n"
   ]
  },
  {
   "cell_type": "code",
   "execution_count": null,
   "metadata": {},
   "outputs": [],
   "source": []
  }
 ],
 "metadata": {
  "kernelspec": {
   "display_name": "Python 3.10.6 64-bit",
   "language": "python",
   "name": "python3"
  },
  "language_info": {
   "codemirror_mode": {
    "name": "ipython",
    "version": 3
   },
   "file_extension": ".py",
   "mimetype": "text/x-python",
   "name": "python",
   "nbconvert_exporter": "python",
   "pygments_lexer": "ipython3",
   "version": "3.10.6"
  },
  "orig_nbformat": 4,
  "vscode": {
   "interpreter": {
    "hash": "a4b831d8046030f06c4e1eda3c51cd4515b11159e253f3c0059ed00cc8ec9b9a"
   }
  }
 },
 "nbformat": 4,
 "nbformat_minor": 2
}
