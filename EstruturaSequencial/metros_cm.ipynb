{
 "cells": [
  {
   "attachments": {},
   "cell_type": "markdown",
   "metadata": {},
   "source": [
    "# Convertendo \n",
    "\n",
    "Convertendo metro para centimetro"
   ]
  },
  {
   "cell_type": "code",
   "execution_count": 4,
   "metadata": {},
   "outputs": [
    {
     "name": "stdout",
     "output_type": "stream",
     "text": [
      "1.9 metros é igual a 190 centímetros\n"
     ]
    }
   ],
   "source": [
    "metro = float(input('Digite os metros a ser convertido'))\n",
    "\n",
    "centimetro = int(metro * 100)\n",
    "\n",
    "print(f'{metro} metros é igual a {centimetro} centímetros')"
   ]
  }
 ],
 "metadata": {
  "kernelspec": {
   "display_name": "Python 3",
   "language": "python",
   "name": "python3"
  },
  "language_info": {
   "codemirror_mode": {
    "name": "ipython",
    "version": 3
   },
   "file_extension": ".py",
   "mimetype": "text/x-python",
   "name": "python",
   "nbconvert_exporter": "python",
   "pygments_lexer": "ipython3",
   "version": "3.10.9"
  },
  "orig_nbformat": 4,
  "vscode": {
   "interpreter": {
    "hash": "ea065f0355b6bede6d288732fd04b0d04b232bf2ce8e203eccbb54c9db7f8153"
   }
  }
 },
 "nbformat": 4,
 "nbformat_minor": 2
}
